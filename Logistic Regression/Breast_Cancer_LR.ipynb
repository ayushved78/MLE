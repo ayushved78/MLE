{
  "nbformat": 4,
  "nbformat_minor": 0,
  "metadata": {
    "colab": {
      "private_outputs": true,
      "provenance": [],
      "authorship_tag": "ABX9TyNFVNVfxSKhcIxsungVaQLL",
      "include_colab_link": true
    },
    "kernelspec": {
      "name": "python3",
      "display_name": "Python 3"
    },
    "language_info": {
      "name": "python"
    }
  },
  "cells": [
    {
      "cell_type": "markdown",
      "metadata": {
        "id": "view-in-github",
        "colab_type": "text"
      },
      "source": [
        "<a href=\"https://colab.research.google.com/github/ayushved78/MLE/blob/main/Logistic%20Regression/Breast_Cancer_LR.ipynb\" target=\"_parent\"><img src=\"https://colab.research.google.com/assets/colab-badge.svg\" alt=\"Open In Colab\"/></a>"
      ]
    },
    {
      "cell_type": "code",
      "execution_count": null,
      "metadata": {
        "id": "KEFUthEHxc72"
      },
      "outputs": [],
      "source": [
        "import pandas as pd\n",
        "import numpy as np\n",
        "import seaborn as sns\n",
        "import matplotlib.pyplot as plt\n",
        "import os"
      ]
    },
    {
      "cell_type": "markdown",
      "source": [
        "### Download Dataset"
      ],
      "metadata": {
        "id": "SsTIPYcyzSDk"
      }
    },
    {
      "cell_type": "code",
      "source": [
        "import kagglehub\n",
        "path = kagglehub.dataset_download(\"uciml/breast-cancer-wisconsin-data\")\n",
        "print(path)"
      ],
      "metadata": {
        "id": "S3cYKBhZygiG"
      },
      "execution_count": null,
      "outputs": []
    },
    {
      "cell_type": "code",
      "source": [
        "path"
      ],
      "metadata": {
        "id": "LplsaVPBzjIr"
      },
      "execution_count": null,
      "outputs": []
    },
    {
      "cell_type": "code",
      "source": [
        "try:\n",
        "    files = os.listdir(path)\n",
        "    for file in files:\n",
        "        print(file)\n",
        "except FileNotFoundError:\n",
        "    print(f\"Directory not found: {path}\")"
      ],
      "metadata": {
        "id": "K-nAkFXa0CXi"
      },
      "execution_count": null,
      "outputs": []
    },
    {
      "cell_type": "markdown",
      "source": [
        "### LOAD DATA"
      ],
      "metadata": {
        "id": "DcV6raVA0Pev"
      }
    },
    {
      "cell_type": "code",
      "source": [
        "df = pd.read_csv(path + '/data.csv')\n",
        "df.head()"
      ],
      "metadata": {
        "id": "yHyL6qOf0MIY"
      },
      "execution_count": null,
      "outputs": []
    },
    {
      "cell_type": "markdown",
      "source": [
        "### EDA"
      ],
      "metadata": {
        "id": "L6MfxoA30bua"
      }
    },
    {
      "cell_type": "code",
      "source": [
        "df. shape"
      ],
      "metadata": {
        "id": "3d4QccOM0MFq"
      },
      "execution_count": null,
      "outputs": []
    },
    {
      "cell_type": "code",
      "source": [
        "# Look for nulls if present any\n",
        "df.any().isnull()"
      ],
      "metadata": {
        "id": "gQ3txSm60MDC"
      },
      "execution_count": null,
      "outputs": []
    },
    {
      "cell_type": "code",
      "source": [
        "# Drop not required columns\n",
        "df.drop('Unnamed: 32', axis=1, inplace=True)"
      ],
      "metadata": {
        "id": "U9acznb50L_v"
      },
      "execution_count": null,
      "outputs": []
    },
    {
      "cell_type": "code",
      "source": [
        "# check duplicates\n",
        "df.duplicated().sum()"
      ],
      "metadata": {
        "id": "313KFuJN0L9k"
      },
      "execution_count": null,
      "outputs": []
    },
    {
      "cell_type": "code",
      "source": [
        "df.info()"
      ],
      "metadata": {
        "id": "64sG1M910L7v"
      },
      "execution_count": null,
      "outputs": []
    },
    {
      "cell_type": "code",
      "source": [
        "df.isna().sum()"
      ],
      "metadata": {
        "id": "gwL2zQJJ0L45"
      },
      "execution_count": null,
      "outputs": []
    },
    {
      "cell_type": "code",
      "source": [
        "# find unique value records to get the infromation on columns where LR can be performed\n",
        "df.nunique()"
      ],
      "metadata": {
        "id": "UycAOZop0L1U"
      },
      "execution_count": null,
      "outputs": []
    },
    {
      "cell_type": "code",
      "source": [
        "df['diagnosis'].value_counts()"
      ],
      "metadata": {
        "id": "TlvE1Kbf0LyJ"
      },
      "execution_count": null,
      "outputs": []
    },
    {
      "cell_type": "code",
      "source": [
        "df = df.rename(columns={'diagnosis': 'target'})"
      ],
      "metadata": {
        "id": "riFnl6b80Luo"
      },
      "execution_count": null,
      "outputs": []
    },
    {
      "cell_type": "code",
      "source": [
        "df.target.replace({'M': 1, 'B': 0}, inplace=True)"
      ],
      "metadata": {
        "id": "fTPmlFS-1mfU"
      },
      "execution_count": null,
      "outputs": []
    },
    {
      "cell_type": "code",
      "source": [
        "df.target.value_counts()"
      ],
      "metadata": {
        "id": "fMFu70k-1uym"
      },
      "execution_count": null,
      "outputs": []
    },
    {
      "cell_type": "code",
      "source": [
        "df.target = df.target.astype('float64')"
      ],
      "metadata": {
        "id": "sSUb3its12jk"
      },
      "execution_count": null,
      "outputs": []
    },
    {
      "cell_type": "code",
      "source": [
        "df.info()"
      ],
      "metadata": {
        "id": "5_nURn3o2FgU"
      },
      "execution_count": null,
      "outputs": []
    },
    {
      "cell_type": "code",
      "source": [
        "# check data stats\n",
        "df.describe().T"
      ],
      "metadata": {
        "id": "Bnlr6-dM2Gz7"
      },
      "execution_count": null,
      "outputs": []
    },
    {
      "cell_type": "markdown",
      "source": [
        "### Analysis"
      ],
      "metadata": {
        "id": "wkAZaN592054"
      }
    },
    {
      "cell_type": "code",
      "source": [
        "df.target.value_counts()"
      ],
      "metadata": {
        "id": "v6J06c0K2Kol"
      },
      "execution_count": null,
      "outputs": []
    },
    {
      "cell_type": "code",
      "source": [
        "df['target'].value_counts().plot(kind='bar',edgecolor='black',color=['lightsteelblue','navajowhite'])\n",
        "plt.title(\" Target\",fontsize=20)\n",
        "plt.show()"
      ],
      "metadata": {
        "id": "Dtr34XxX23R7"
      },
      "execution_count": null,
      "outputs": []
    },
    {
      "cell_type": "code",
      "source": [
        "cor = df.corr()\n",
        "cor"
      ],
      "metadata": {
        "id": "cM8B19_y23PG"
      },
      "execution_count": null,
      "outputs": []
    },
    {
      "cell_type": "code",
      "source": [
        "# SNS HEATMAP\n",
        "plt.figure(figsize=(20,20))\n",
        "sns.heatmap(cor, annot=True, cmap=plt.cm.CMRmap_r)\n",
        "plt.show()"
      ],
      "metadata": {
        "id": "8eIhPrSo23Lu"
      },
      "execution_count": null,
      "outputs": []
    },
    {
      "cell_type": "code",
      "source": [
        "threshold = 0.75\n",
        "flr = np.abs(cor[\"target\"] > threshold)\n",
        "cf = cor.columns[flr].tolist()\n",
        "cf"
      ],
      "metadata": {
        "id": "u4yLT2wd23I1"
      },
      "execution_count": null,
      "outputs": []
    },
    {
      "cell_type": "code",
      "source": [
        "# SNS Clustermap\n",
        "sns.clustermap(df[cf].corr(), annot=True, cmap=plt.cm.CMRmap_r)\n",
        "plt.show()"
      ],
      "metadata": {
        "id": "8QJpS5Bd4dHg"
      },
      "execution_count": null,
      "outputs": []
    },
    {
      "cell_type": "code",
      "source": [
        "# paiplot\n",
        "sns.pairplot(df[cf], diag_kind = \"kde\" , markers = \"*\", hue=\"target\")\n",
        "plt.show()"
      ],
      "metadata": {
        "id": "keklATMa48CF"
      },
      "execution_count": null,
      "outputs": []
    },
    {
      "cell_type": "markdown",
      "source": [
        "### Model"
      ],
      "metadata": {
        "id": "QEfMs8oJ63Cy"
      }
    },
    {
      "cell_type": "code",
      "source": [
        "from sklearn.model_selection import train_test_split\n",
        "from sklearn.preprocessing import StandardScaler\n",
        "from sklearn.linear_model import LogisticRegression\n",
        "from sklearn.metrics import accuracy_score, confusion_matrix, classification_report\n",
        "from sklearn.model_selection import GridSearchCV"
      ],
      "metadata": {
        "id": "DZ82041f5G34"
      },
      "execution_count": null,
      "outputs": []
    },
    {
      "cell_type": "code",
      "source": [
        "# split the data\n",
        "x = df.drop('target', axis=1)\n",
        "y = df['target']"
      ],
      "metadata": {
        "id": "3n6ywY3I5G1E"
      },
      "execution_count": null,
      "outputs": []
    },
    {
      "cell_type": "code",
      "source": [
        "x_train, x_test, y_train, y_test = train_test_split(x, y, test_size=0.2, random_state=42)"
      ],
      "metadata": {
        "id": "B70WBbTw5GxF"
      },
      "execution_count": null,
      "outputs": []
    },
    {
      "cell_type": "code",
      "source": [
        "sc = StandardScaler()\n",
        "x_train = sc.fit_transform(x_train)\n",
        "x_test = sc.transform(x_test)"
      ],
      "metadata": {
        "id": "u1tMlttH5Gue"
      },
      "execution_count": null,
      "outputs": []
    },
    {
      "cell_type": "code",
      "source": [
        "def met(model):\n",
        "  model.fit(x_train, y_train)\n",
        "  pred = model.predict(x_test)\n",
        "\n",
        "  acc = accuracy_score(pred, y_test)\n",
        "  cm = confusion_matrix(pred, y_test)\n",
        "  ncm = confusion_matrix(pred, y_test, normalize='true')\n",
        "\n",
        "  # Plot the confusion matrix\n",
        "  print(\"Confusion Matrix\")\n",
        "  sns.heatmap(cm, annot=True, fmt='d',cmap=['lightsteelblue','navajowhite'])\n",
        "  plt.title('Confusion matrix')\n",
        "  plt.xlabel('Predcted lablel')\n",
        "  plt.ylabel('True lable')\n",
        "  plt.show()\n",
        "\n",
        "  # Plot the Normalize Confusion Matrix\n",
        "  print(\"Normalize Confusion Matrix\")\n",
        "  sns.heatmap(ncm, annot=True, fmt='.2f',cmap=['lightsteelblue','navajowhite'])\n",
        "  plt.title('Normalize Confusion matrix')\n",
        "  plt.xlabel('Predcted lablel')\n",
        "  plt.ylabel('True lable')\n",
        "  plt.show()\n",
        "\n",
        "  print(cm)\n",
        "  print(classification_report(pred, y_test))\n",
        "  print(\"Accuracy Score: \", acc)"
      ],
      "metadata": {
        "id": "qqv2raPv7vUS"
      },
      "execution_count": null,
      "outputs": []
    },
    {
      "cell_type": "code",
      "source": [
        "model = LogisticRegression()\n",
        "met(model)"
      ],
      "metadata": {
        "id": "v8ZFioaT9Hzy"
      },
      "execution_count": null,
      "outputs": []
    }
  ]
}