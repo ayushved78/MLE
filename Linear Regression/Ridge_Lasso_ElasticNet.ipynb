{
  "nbformat": 4,
  "nbformat_minor": 0,
  "metadata": {
    "colab": {
      "private_outputs": true,
      "provenance": [],
      "authorship_tag": "ABX9TyOVlqEJyr03L09UCXufvvI8",
      "include_colab_link": true
    },
    "kernelspec": {
      "name": "python3",
      "display_name": "Python 3"
    },
    "language_info": {
      "name": "python"
    }
  },
  "cells": [
    {
      "cell_type": "markdown",
      "metadata": {
        "id": "view-in-github",
        "colab_type": "text"
      },
      "source": [
        "<a href=\"https://colab.research.google.com/github/ayushved78/MLE/blob/main/Linear%20Regression/Ridge_Lasso_ElasticNet.ipynb\" target=\"_parent\"><img src=\"https://colab.research.google.com/assets/colab-badge.svg\" alt=\"Open In Colab\"/></a>"
      ]
    },
    {
      "cell_type": "markdown",
      "source": [
        "### All Imports"
      ],
      "metadata": {
        "id": "P9JKP-jYinHB"
      }
    },
    {
      "cell_type": "code",
      "execution_count": null,
      "metadata": {
        "id": "Nqr4ai7EEAiK"
      },
      "outputs": [],
      "source": [
        "import pandas as pd\n",
        "import numpy as np\n",
        "import matplotlib.pyplot as plt\n",
        "import seaborn as sns\n",
        "import warnings\n",
        "import os\n",
        "warnings.filterwarnings('ignore')"
      ]
    },
    {
      "cell_type": "markdown",
      "source": [
        "### Import Dataset"
      ],
      "metadata": {
        "id": "_rduZ4Dbipmh"
      }
    },
    {
      "cell_type": "code",
      "source": [
        "import kagglehub\n",
        "path = kagglehub.dataset_download(\"nitinchoudhary012/algerian-forest-fires-dataset\")\n",
        "print(\"Path to dataset files:\", path)\n",
        "try:\n",
        "    files = os.listdir(path)\n",
        "    for file in files:\n",
        "        print(file)\n",
        "except FileNotFoundError:\n",
        "    print(f\"Directory not found: {path}\")"
      ],
      "metadata": {
        "id": "D8UaWXEhgBOX"
      },
      "execution_count": null,
      "outputs": []
    },
    {
      "cell_type": "code",
      "source": [
        "df = pd.read_csv(path + \"/Algerian_forest_fires_dataset.csv\")\n",
        "df.head()"
      ],
      "metadata": {
        "id": "1iOZB5Ttgd0C"
      },
      "execution_count": null,
      "outputs": []
    },
    {
      "cell_type": "markdown",
      "source": [
        "### Data Cleaning"
      ],
      "metadata": {
        "id": "F82Xm5IRiiWs"
      }
    },
    {
      "cell_type": "code",
      "source": [
        "df[df.isnull().any(axis=1)]"
      ],
      "metadata": {
        "id": "_ajWTPrPgo1L"
      },
      "execution_count": null,
      "outputs": []
    },
    {
      "cell_type": "code",
      "source": [
        "df.loc[:122,\"Region\"]=0\n",
        "df.loc[122:,\"Region\"]=1"
      ],
      "metadata": {
        "id": "hfo9N71litbT"
      },
      "execution_count": null,
      "outputs": []
    },
    {
      "cell_type": "code",
      "source": [
        "df = df.dropna().reset_index(drop=True)"
      ],
      "metadata": {
        "id": "HdQcnHcajYuE"
      },
      "execution_count": null,
      "outputs": []
    },
    {
      "cell_type": "code",
      "source": [
        "df[df.isnull().any(axis=1)]"
      ],
      "metadata": {
        "id": "wVuwtYQKjqDX"
      },
      "execution_count": null,
      "outputs": []
    },
    {
      "cell_type": "code",
      "source": [
        "df.iloc[122]\n",
        "# remove 122\n",
        "df = df.drop(122).reset_index(drop=True)"
      ],
      "metadata": {
        "id": "7Q595Kc_kLOW"
      },
      "execution_count": null,
      "outputs": []
    },
    {
      "cell_type": "code",
      "source": [
        "df.iloc[122]"
      ],
      "metadata": {
        "id": "wepaKtE3kcbq"
      },
      "execution_count": null,
      "outputs": []
    },
    {
      "cell_type": "markdown",
      "source": [
        "### Changing Column dtypes"
      ],
      "metadata": {
        "id": "QHcCm0g5m3MG"
      }
    },
    {
      "cell_type": "code",
      "source": [
        "df.columns"
      ],
      "metadata": {
        "id": "TOxwlb_IkpD2"
      },
      "execution_count": null,
      "outputs": []
    },
    {
      "cell_type": "code",
      "source": [
        "# fix spaces in column names\n",
        "df.columns = df.columns.str.strip()\n",
        "df.columns"
      ],
      "metadata": {
        "id": "whu0Vy7XkwUa"
      },
      "execution_count": null,
      "outputs": []
    },
    {
      "cell_type": "code",
      "source": [
        "df[['day', 'month', 'year', 'Temperature', 'RH', 'Ws']] = df[['day', 'month', 'year', 'Temperature', 'RH', 'Ws']].astype(int)"
      ],
      "metadata": {
        "id": "ggmTYfrHlhJM"
      },
      "execution_count": null,
      "outputs": []
    },
    {
      "cell_type": "code",
      "source": [
        "objects = [features for features in df.columns if df[features].dtypes=='O']"
      ],
      "metadata": {
        "id": "AjBQN24nlkxq"
      },
      "execution_count": null,
      "outputs": []
    },
    {
      "cell_type": "code",
      "source": [
        "for i in objects:\n",
        "  if i!='Classes':\n",
        "    df[i]=df[i].astype(float)"
      ],
      "metadata": {
        "id": "vWZApuFTmMQn"
      },
      "execution_count": null,
      "outputs": []
    },
    {
      "cell_type": "code",
      "source": [
        "df[['Region']]=df[['Region']].astype(int)"
      ],
      "metadata": {
        "id": "A54rUiJUmV-j"
      },
      "execution_count": null,
      "outputs": []
    },
    {
      "cell_type": "code",
      "source": [
        "df.info()"
      ],
      "metadata": {
        "id": "4TKRbOM0mq8W"
      },
      "execution_count": null,
      "outputs": []
    },
    {
      "cell_type": "code",
      "source": [
        "df.to_csv('Algerian_forest_fires_cleaned.csv', index=False)"
      ],
      "metadata": {
        "id": "vLbuvEmZm7Rw"
      },
      "execution_count": null,
      "outputs": []
    },
    {
      "cell_type": "markdown",
      "source": [
        "### EDA"
      ],
      "metadata": {
        "id": "8MzeWAIxo7Kw"
      }
    },
    {
      "cell_type": "code",
      "source": [
        "# drop day, month, year\n",
        "df1 = df.drop(['day','month','year'],axis=1)\n",
        "df1.head()"
      ],
      "metadata": {
        "id": "WxfylYMxo8UN"
      },
      "execution_count": null,
      "outputs": []
    },
    {
      "cell_type": "code",
      "source": [
        "df1['Classes'].value_counts()"
      ],
      "metadata": {
        "id": "Caunt9Brp6Qy"
      },
      "execution_count": null,
      "outputs": []
    },
    {
      "cell_type": "code",
      "source": [
        "df1['Classes'] = np.where(df1['Classes'].str.contains('not'), 0, 1)"
      ],
      "metadata": {
        "id": "1-zSd_wCpQPh"
      },
      "execution_count": null,
      "outputs": []
    },
    {
      "cell_type": "code",
      "source": [
        "df1.head()"
      ],
      "metadata": {
        "id": "WATce93WpPk9"
      },
      "execution_count": null,
      "outputs": []
    },
    {
      "cell_type": "code",
      "source": [
        "plt.style.use('fivethirtyeight')\n",
        "df1.hist(figsize=(15,15))\n",
        "plt.show()"
      ],
      "metadata": {
        "id": "7MMNYLxKqY8u"
      },
      "execution_count": null,
      "outputs": []
    },
    {
      "cell_type": "code",
      "source": [
        "class_counts = df1['Classes'].value_counts()\n",
        "labels = ['Not Fire', 'Fire']  # Corrected labels\n",
        "sizes = [class_counts[0], class_counts[1]]\n",
        "\n",
        "plt.figure(figsize=(6, 6))\n",
        "plt.pie(sizes, labels=labels, autopct='%1.1f%%', startangle=90)\n",
        "plt.title('Fire vs Not Fire')\n",
        "plt.axis('equal')  # Equal aspect ratio ensures that pie is drawn as a circle.\n",
        "plt.show()"
      ],
      "metadata": {
        "id": "2Ey0_4AkrkWW"
      },
      "execution_count": null,
      "outputs": []
    },
    {
      "cell_type": "code",
      "source": [
        "df1.corr()"
      ],
      "metadata": {
        "id": "Ba0PY_serJb6"
      },
      "execution_count": null,
      "outputs": []
    },
    {
      "cell_type": "code",
      "source": [
        "sns.heatmap(df1.corr())"
      ],
      "metadata": {
        "id": "IwnnQstkr_-b"
      },
      "execution_count": null,
      "outputs": []
    },
    {
      "cell_type": "code",
      "source": [
        "df['Classes'] = np.where(df['Classes'].str.contains('not'), 0, 1)"
      ],
      "metadata": {
        "id": "L0rt7_oZsIM9"
      },
      "execution_count": null,
      "outputs": []
    },
    {
      "cell_type": "code",
      "source": [
        "df['Classes'].value_counts()"
      ],
      "metadata": {
        "id": "zjv1LxFFtmCl"
      },
      "execution_count": null,
      "outputs": []
    },
    {
      "cell_type": "markdown",
      "source": [
        "### Independent and Dependent Features"
      ],
      "metadata": {
        "id": "sLfaBJ--6tWi"
      }
    },
    {
      "cell_type": "code",
      "source": [
        "X = df1.drop('FWI',axis=1)\n",
        "Y = df1['FWI']"
      ],
      "metadata": {
        "id": "Qu1cH8ORKZGC"
      },
      "execution_count": null,
      "outputs": []
    },
    {
      "cell_type": "code",
      "source": [
        "X.head()"
      ],
      "metadata": {
        "id": "jL6gPTFb6_15"
      },
      "execution_count": null,
      "outputs": []
    },
    {
      "cell_type": "code",
      "source": [
        "from sklearn.model_selection import train_test_split\n",
        "X_train,X_test,y_train,y_test=train_test_split(X,Y,test_size=0.25,random_state=42)"
      ],
      "metadata": {
        "id": "2TO37Cbi7Mr3"
      },
      "execution_count": null,
      "outputs": []
    },
    {
      "cell_type": "code",
      "source": [
        "X_train.shape,X_test.shape"
      ],
      "metadata": {
        "id": "4d3sKgYt7TsO"
      },
      "execution_count": null,
      "outputs": []
    },
    {
      "cell_type": "code",
      "source": [
        "plt.figure(figsize=(10,10))\n",
        "sns.heatmap(X_train.corr(),annot=True)"
      ],
      "metadata": {
        "id": "wd5Q24Yp7aDa"
      },
      "execution_count": null,
      "outputs": []
    },
    {
      "cell_type": "code",
      "source": [
        "def correlation(dataset, threshold):\n",
        "    col_corr = set()  # Set of all the names of correlated columns\n",
        "    corr_matrix = dataset.corr()\n",
        "    for i in range(len(corr_matrix.columns)):\n",
        "        for j in range(i):\n",
        "            if abs(corr_matrix.iloc[i, j]) > threshold: # we are interested in absolute coeff value\n",
        "                colname = corr_matrix.columns[i]  # getting the name of column\n",
        "                col_corr.add(colname)\n",
        "    return col_corr"
      ],
      "metadata": {
        "id": "XPADj7kp7aAF"
      },
      "execution_count": null,
      "outputs": []
    },
    {
      "cell_type": "code",
      "source": [
        "corr_set = correlation(X_train,0.85)"
      ],
      "metadata": {
        "id": "6g4y5NP27Z8y"
      },
      "execution_count": null,
      "outputs": []
    },
    {
      "cell_type": "code",
      "source": [
        "X_train.drop(corr_set,axis=1,inplace=True)\n",
        "X_test.drop(corr_set,axis=1,inplace=True)\n",
        "X_train.shape,X_test.shape"
      ],
      "metadata": {
        "id": "IWJPlRS07Z6H"
      },
      "execution_count": null,
      "outputs": []
    },
    {
      "cell_type": "code",
      "source": [
        "from sklearn.preprocessing import StandardScaler\n",
        "sc = StandardScaler()\n",
        "X_train = sc.fit_transform(X_train)\n",
        "X_test = sc.transform(X_test)"
      ],
      "metadata": {
        "id": "pR4uYWLF7Z3X"
      },
      "execution_count": null,
      "outputs": []
    },
    {
      "cell_type": "code",
      "source": [],
      "metadata": {
        "id": "Gh1dSFIg7Z0K"
      },
      "execution_count": null,
      "outputs": []
    },
    {
      "cell_type": "code",
      "source": [],
      "metadata": {
        "id": "WyIWStg37Zsh"
      },
      "execution_count": null,
      "outputs": []
    }
  ]
}