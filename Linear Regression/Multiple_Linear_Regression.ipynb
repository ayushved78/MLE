{
  "nbformat": 4,
  "nbformat_minor": 0,
  "metadata": {
    "colab": {
      "provenance": [],
      "authorship_tag": "ABX9TyNgnxlmNas2Gqu78h3SaEBC",
      "include_colab_link": true
    },
    "kernelspec": {
      "name": "python3",
      "display_name": "Python 3"
    },
    "language_info": {
      "name": "python"
    }
  },
  "cells": [
    {
      "cell_type": "markdown",
      "metadata": {
        "id": "view-in-github",
        "colab_type": "text"
      },
      "source": [
        "<a href=\"https://colab.research.google.com/github/ayushved78/MLE/blob/main/Linear%20Regression/Multiple_Linear_Regression.ipynb\" target=\"_parent\"><img src=\"https://colab.research.google.com/assets/colab-badge.svg\" alt=\"Open In Colab\"/></a>"
      ]
    },
    {
      "cell_type": "code",
      "execution_count": null,
      "metadata": {
        "id": "3hNYF8xuoftO"
      },
      "outputs": [],
      "source": [
        "import pandas as pd\n",
        "import numpy as np\n",
        "import matplotlib.pyplot as plt"
      ]
    },
    {
      "cell_type": "code",
      "source": [
        "# Prepare the data\n",
        "import kagglehub\n",
        "path = kagglehub.dataset_download(\"harshvir04/index-value-economic-dataset\")\n",
        "print(\"Path to dataset files:\", path)"
      ],
      "metadata": {
        "id": "VlKCdcaHoqVi"
      },
      "execution_count": null,
      "outputs": []
    },
    {
      "cell_type": "code",
      "source": [
        "import os\n",
        "\n",
        "path = \"/root/.cache/kagglehub/datasets/harshvir04/index-value-economic-dataset/versions/2\"\n",
        "\n",
        "try:\n",
        "    files = os.listdir(path)\n",
        "    for file in files:\n",
        "        print(file)\n",
        "except FileNotFoundError:\n",
        "    print(f\"Directory not found: {path}\")"
      ],
      "metadata": {
        "id": "zPZk83fvqWQG"
      },
      "execution_count": null,
      "outputs": []
    },
    {
      "cell_type": "code",
      "source": [
        "df = pd.read_csv(path +  \"/modified_synthetic_economic_data.csv\")\n",
        "df.head()"
      ],
      "metadata": {
        "id": "kLEgNGu4pm2w"
      },
      "execution_count": null,
      "outputs": []
    },
    {
      "cell_type": "code",
      "source": [
        "df.isnull().any()"
      ],
      "metadata": {
        "id": "XwWME0hmqn-R"
      },
      "execution_count": null,
      "outputs": []
    },
    {
      "cell_type": "code",
      "source": [
        "# scatter plot\n",
        "plt.scatter(df['interest_rate'],df['year'])\n",
        "plt.xlabel('interest_rate')\n",
        "plt.ylabel('year')\n",
        "plt.show()"
      ],
      "metadata": {
        "id": "mkEY9HFFqz6O"
      },
      "execution_count": null,
      "outputs": []
    },
    {
      "cell_type": "code",
      "source": [
        "# correlation\n",
        "df[['year','month','interest_rate','unemployment_rate','index_price']].corr()"
      ],
      "metadata": {
        "id": "wy_1NRuXrVCu"
      },
      "execution_count": null,
      "outputs": []
    },
    {
      "cell_type": "code",
      "source": [
        "df.drop(columns=['month','year'],axis=1, inplace=True)"
      ],
      "metadata": {
        "id": "xn1LEGNx_kgO"
      },
      "execution_count": null,
      "outputs": []
    },
    {
      "cell_type": "code",
      "source": [
        "df.isnull().sum()"
      ],
      "metadata": {
        "id": "xIZ35BQmAAHl"
      },
      "execution_count": null,
      "outputs": []
    },
    {
      "cell_type": "code",
      "source": [
        "# visualisation\n",
        "import seaborn as sns\n",
        "sns.pairplot(df)"
      ],
      "metadata": {
        "id": "Xk6ytu0SAW75"
      },
      "execution_count": null,
      "outputs": []
    },
    {
      "cell_type": "code",
      "source": [
        "df.corr()"
      ],
      "metadata": {
        "id": "b21g4IeZApWX"
      },
      "execution_count": null,
      "outputs": []
    },
    {
      "cell_type": "code",
      "source": [
        "# independent and dependent variables\n",
        "X = df[['interest_rate','unemployment_rate']]\n",
        "Y = df['index_price']\n",
        "\n",
        "# test train split\n",
        "from sklearn.model_selection import train_test_split\n",
        "X_train,X_test,Y_train,Y_test = train_test_split(X,Y,test_size=0.2,random_state=42)"
      ],
      "metadata": {
        "id": "faMPBrE7ApSu"
      },
      "execution_count": null,
      "outputs": []
    },
    {
      "cell_type": "code",
      "source": [
        "# standardisation\n",
        "from sklearn.preprocessing import StandardScaler\n",
        "sc = StandardScaler()\n",
        "X_train = sc.fit_transform(X_train)\n",
        "X_test = sc.transform(X_test)"
      ],
      "metadata": {
        "id": "SpemWALaApPa"
      },
      "execution_count": null,
      "outputs": []
    },
    {
      "cell_type": "code",
      "source": [
        "sns.regplot(x=X_train[:,0],y=Y_train)"
      ],
      "metadata": {
        "id": "iJpHnM8RApMv"
      },
      "execution_count": null,
      "outputs": []
    },
    {
      "cell_type": "code",
      "source": [
        "from sklearn.linear_model import LinearRegression\n",
        "lr = LinearRegression()\n",
        "lr.fit(X_train,Y_train)"
      ],
      "metadata": {
        "id": "jjux5o4TApKA"
      },
      "execution_count": null,
      "outputs": []
    },
    {
      "cell_type": "code",
      "source": [
        "## cross validation score\n",
        "from sklearn.model_selection import cross_val_score\n",
        "cv_score = cross_val_score(lr,X_train,Y_train,cv=5)\n",
        "print(cv_score)\n",
        "print(np.mean(cv_score))"
      ],
      "metadata": {
        "id": "oLWZauQ3GG9M"
      },
      "execution_count": null,
      "outputs": []
    },
    {
      "cell_type": "code",
      "source": [
        "y_pred = lr.predict(X_test)\n",
        "y_pred"
      ],
      "metadata": {
        "id": "tf_njW08HJ1z"
      },
      "execution_count": null,
      "outputs": []
    },
    {
      "cell_type": "code",
      "source": [
        "print(\"Coefficient or slope:\", lr.coef_)\n",
        "print(\"Intercept:\", lr.intercept_)"
      ],
      "metadata": {
        "id": "QJ-9AkwiHXOC"
      },
      "execution_count": null,
      "outputs": []
    },
    {
      "cell_type": "code",
      "source": [
        "# performance metrics\n",
        "from sklearn import metrics\n",
        "print('Mean Absolute Error:', metrics.mean_absolute_error(Y_test, y_pred))\n",
        "print('Mean Squared Error:', metrics.mean_squared_error(Y_test, y_pred))\n",
        "print('Root Mean Squared Error:', np.sqrt(metrics.mean_squared_error(Y_test, y_pred)))"
      ],
      "metadata": {
        "id": "IjyF6ix7HdS4"
      },
      "execution_count": null,
      "outputs": []
    },
    {
      "cell_type": "code",
      "source": [
        "# r square\n",
        "from sklearn.metrics import r2_score\n",
        "r2_score(Y_test, y_pred)"
      ],
      "metadata": {
        "id": "FpBqXGN2HjVz"
      },
      "execution_count": null,
      "outputs": []
    },
    {
      "cell_type": "code",
      "source": [
        "# adjusted r square\n",
        "1 - (1-r2_score(Y_test, y_pred)) * (len(Y_test)-1)/(len(Y_test)-X_test.shape[1]-1)"
      ],
      "metadata": {
        "id": "Iwzvw0QEHm_C"
      },
      "execution_count": null,
      "outputs": []
    },
    {
      "cell_type": "code",
      "source": [
        "residual = Y_test - y_pred"
      ],
      "metadata": {
        "id": "uxnKC4hkILtI"
      },
      "execution_count": null,
      "outputs": []
    },
    {
      "cell_type": "code",
      "source": [
        "sns.displot(residual,kind='kde')"
      ],
      "metadata": {
        "id": "DeGnemOgIOub"
      },
      "execution_count": null,
      "outputs": []
    }
  ]
}