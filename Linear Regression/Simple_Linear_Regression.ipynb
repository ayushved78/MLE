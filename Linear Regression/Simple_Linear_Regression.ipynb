{
  "nbformat": 4,
  "nbformat_minor": 0,
  "metadata": {
    "colab": {
      "private_outputs": true,
      "provenance": [],
      "authorship_tag": "ABX9TyOE+18nsLPXBiNx3b/PkN2X",
      "include_colab_link": true
    },
    "kernelspec": {
      "name": "python3",
      "display_name": "Python 3"
    },
    "language_info": {
      "name": "python"
    }
  },
  "cells": [
    {
      "cell_type": "markdown",
      "metadata": {
        "id": "view-in-github",
        "colab_type": "text"
      },
      "source": [
        "<a href=\"https://colab.research.google.com/github/ayushved78/MLE/blob/main/Linear%20Regression/Simple_Linear_Regression.ipynb\" target=\"_parent\"><img src=\"https://colab.research.google.com/assets/colab-badge.svg\" alt=\"Open In Colab\"/></a>"
      ]
    },
    {
      "cell_type": "markdown",
      "source": [
        "### Simple Linear Regression (Gradient based)\n"
      ],
      "metadata": {
        "id": "FLMaIYrkTUB2"
      }
    },
    {
      "cell_type": "code",
      "execution_count": null,
      "metadata": {
        "id": "5mqq9sjFHbrG"
      },
      "outputs": [],
      "source": [
        "import pandas as pd\n",
        "import numpy as np\n",
        "import matplotlib.pyplot as plt"
      ]
    },
    {
      "cell_type": "code",
      "source": [
        "import kagglehub\n",
        "\n",
        "path = kagglehub.dataset_download(\"mustafaali96/weight-height\")\n",
        "\n",
        "print(\"Path to dataset files:\", path)"
      ],
      "metadata": {
        "id": "ULhggAFwIKwd"
      },
      "execution_count": null,
      "outputs": []
    },
    {
      "cell_type": "code",
      "source": [
        "df = pd.read_csv(path + \"/weight-height.csv\")"
      ],
      "metadata": {
        "id": "4cge-FwrIO3L"
      },
      "execution_count": null,
      "outputs": []
    },
    {
      "cell_type": "code",
      "source": [
        "df.head()"
      ],
      "metadata": {
        "id": "mzgK6UnOIX5q"
      },
      "execution_count": null,
      "outputs": []
    },
    {
      "cell_type": "code",
      "source": [
        "df.isnull().any()"
      ],
      "metadata": {
        "id": "LJMaoqxgIseF"
      },
      "execution_count": null,
      "outputs": []
    },
    {
      "cell_type": "code",
      "source": [
        "# scatter plot\n",
        "plt.scatter(df['Weight'], df['Height'])\n",
        "plt.xlabel('Weight')\n",
        "plt.ylabel('Height')\n",
        "plt.title('Height vs Weight')\n",
        "plt.show()"
      ],
      "metadata": {
        "id": "UXDnrHjxJCRV"
      },
      "execution_count": null,
      "outputs": []
    },
    {
      "cell_type": "code",
      "source": [
        "# correlation\n",
        "df[['Weight','Height']].corr()"
      ],
      "metadata": {
        "id": "_Kr6ByfWJfdl"
      },
      "execution_count": null,
      "outputs": []
    },
    {
      "cell_type": "code",
      "source": [
        "# seaborn for visulaisation\n",
        "import seaborn as sns\n",
        "sns.pairplot(df)"
      ],
      "metadata": {
        "id": "8x4nHvqQKQZ5"
      },
      "execution_count": null,
      "outputs": []
    },
    {
      "cell_type": "code",
      "source": [
        "# Independent and Dependent variables\n",
        "X = df[['Weight']]\n",
        "Y = df[['Height']]\n",
        "\n",
        "# Train Test Split\n",
        "from sklearn.model_selection import train_test_split\n",
        "X_train, X_test, Y_train, Y_test = train_test_split(X, Y, test_size=0.2, random_state=42)"
      ],
      "metadata": {
        "id": "MfVN7NLFK6SL"
      },
      "execution_count": null,
      "outputs": []
    },
    {
      "cell_type": "code",
      "source": [
        "# standarization\n",
        "from sklearn.preprocessing import StandardScaler\n",
        "sc = StandardScaler()\n",
        "X_train = sc.fit_transform(X_train)\n",
        "X_test = sc.transform(X_test)"
      ],
      "metadata": {
        "id": "1oihmBeDOcRe"
      },
      "execution_count": null,
      "outputs": []
    },
    {
      "cell_type": "code",
      "source": [
        "# Linear Regression\n",
        "from sklearn.linear_model import LinearRegression\n",
        "regression = LinearRegression(n_jobs=-1)\n",
        "regression.fit(X_train, Y_train)"
      ],
      "metadata": {
        "id": "qCyB1oqYOtDm"
      },
      "execution_count": null,
      "outputs": []
    },
    {
      "cell_type": "markdown",
      "source": [
        "> This means 1 unit movement in the weight which is the Indepent variable can cause 3 unit movement in height\n",
        "\n"
      ],
      "metadata": {
        "id": "ptZphIVNQY9S"
      }
    },
    {
      "cell_type": "code",
      "source": [
        "print(\"Coefficient or slope:\", regression.coef_)\n",
        "print(\"Intercept:\", regression.intercept_)"
      ],
      "metadata": {
        "id": "6WPgsYmnQQsM"
      },
      "execution_count": null,
      "outputs": []
    },
    {
      "cell_type": "code",
      "source": [
        "# plot training data\n",
        "plt.scatter(X_train, Y_train, color='red')\n",
        "plt.plot(X_train, regression.predict(X_train), color='blue')\n",
        "plt.title('Height vs Weight (Training set)')\n",
        "plt.xlabel('Weight')"
      ],
      "metadata": {
        "id": "vrtWOCAjRCjw"
      },
      "execution_count": null,
      "outputs": []
    },
    {
      "cell_type": "markdown",
      "source": [
        "predicted height output = intercept_ + coeff_(weight)\n",
        "\n",
        "y_pred = 66.35 + 3.55(X_test)"
      ],
      "metadata": {
        "id": "1hHYBuAaRi3T"
      }
    },
    {
      "cell_type": "code",
      "source": [
        "# prediction of test data\n",
        "y_pred = regression.predict(X_test)\n",
        "y_pred"
      ],
      "metadata": {
        "id": "8JixuLS_RgiE"
      },
      "execution_count": null,
      "outputs": []
    },
    {
      "cell_type": "code",
      "source": [
        "# performance metrics\n",
        "from sklearn import metrics\n",
        "print('Mean Absolute Error:', metrics.mean_absolute_error(Y_test, y_pred))\n",
        "print('Mean Squared Error:', metrics.mean_squared_error(Y_test, y_pred))\n",
        "print('Root Mean Squared Error:', np.sqrt(metrics.mean_squared_error(Y_test, y_pred)))"
      ],
      "metadata": {
        "id": "_HvrnP-IR9Kk"
      },
      "execution_count": null,
      "outputs": []
    },
    {
      "cell_type": "code",
      "source": [
        "# r square\n",
        "from sklearn.metrics import r2_score\n",
        "r2_score(Y_test, y_pred)"
      ],
      "metadata": {
        "id": "J3f7KHbtSSzm"
      },
      "execution_count": null,
      "outputs": []
    },
    {
      "cell_type": "code",
      "source": [
        "# adjusted r square\n",
        "1 - (1-r2_score(Y_test, y_pred)) * (len(Y_test)-1)/(len(Y_test)-X_test.shape[1]-1)"
      ],
      "metadata": {
        "id": "ChHdfJtRSp-c"
      },
      "execution_count": null,
      "outputs": []
    },
    {
      "cell_type": "markdown",
      "source": [
        "### SL With OLS (Ordinary Least Square)"
      ],
      "metadata": {
        "id": "us8UhvdtTIDY"
      }
    },
    {
      "cell_type": "code",
      "source": [
        "import statsmodels.api as sm\n",
        "model = sm.OLS(X_train, Y_train).fit()"
      ],
      "metadata": {
        "id": "ywaREGiCTS3w"
      },
      "execution_count": null,
      "outputs": []
    },
    {
      "cell_type": "code",
      "source": [
        "prediction = model.predict(X_test)\n",
        "print(prediction)"
      ],
      "metadata": {
        "id": "VcNbfpcIT4uj"
      },
      "execution_count": null,
      "outputs": []
    },
    {
      "cell_type": "code",
      "source": [
        "print(model.summary())"
      ],
      "metadata": {
        "id": "YMQ6KRQUT_Ai"
      },
      "execution_count": null,
      "outputs": []
    },
    {
      "cell_type": "code",
      "source": [
        "# predict a new height\n",
        "regression.predict(sc.transform([[120]]))"
      ],
      "metadata": {
        "id": "pb16Hj7FUd8K"
      },
      "execution_count": null,
      "outputs": []
    }
  ]
}